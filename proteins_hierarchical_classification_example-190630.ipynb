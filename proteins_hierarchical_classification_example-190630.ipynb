{
 "cells": [
  {
   "cell_type": "code",
   "execution_count": null,
   "metadata": {},
   "outputs": [],
   "source": []
  },
  {
   "cell_type": "code",
   "execution_count": 1,
   "metadata": {},
   "outputs": [
    {
     "name": "stderr",
     "output_type": "stream",
     "text": [
      "Using TensorFlow backend.\n"
     ]
    }
   ],
   "source": [
    "import protein_function_hierarchy as ph\n",
    "import pickle as pk"
   ]
  },
  {
   "cell_type": "code",
   "execution_count": 2,
   "metadata": {},
   "outputs": [
    {
     "name": "stdout",
     "output_type": "stream",
     "text": [
      "Loading base models...\n",
      "Loading Class from: finalmodels/class_model_20190614_bigdata.h5\n",
      "Loading Subclass from: finalmodels/subclass_model_20190614_bigdata.h5\n",
      "Loading Subsystem from: finalmodels/subsystem_model_20190614_bigdata.h5\n",
      "Loading Superclass from: finalmodels/superclass_model_20190614_bigdata.h5\n",
      "Loading ambiguous subsystem sets models...\n",
      "Loading 0 from: finalmodels/set0_subsystems_model_ker50.h5\n",
      "Loading 10 from: finalmodels/set10_subsystems_model_ker50.h5\n",
      "Loading 11 from: finalmodels/set11_subsystems_model_ker50.h5\n",
      "Loading 12 from: finalmodels/set12_subsystems_model_ker50.h5\n",
      "Loading 13 from: finalmodels/set13_subsystems_model_ker50.h5\n",
      "Loading 14 from: finalmodels/set14_subsystems_model_ker50.h5\n",
      "Loading 15 from: finalmodels/set15_subsystems_model_ker50.h5\n",
      "Loading 16 from: finalmodels/set16_subsystems_model_ker50.h5\n",
      "Loading 17 from: finalmodels/set17_subsystems_model_ker50.h5\n",
      "Loading 18 from: finalmodels/set18_subsystems_model_ker50.h5\n",
      "Loading 19 from: finalmodels/set19_subsystems_model_ker50.h5\n",
      "Loading 1 from: finalmodels/set1_subsystems_model_ker50.h5\n",
      "Loading 20 from: finalmodels/set20_subsystems_model_ker50.h5\n",
      "Loading 21 from: finalmodels/set21_subsystems_model_ker50.h5\n",
      "Loading 22 from: finalmodels/set22_subsystems_model_ker50.h5\n",
      "Loading 23 from: finalmodels/set23_subsystems_model_ker50.h5\n",
      "Loading 24 from: finalmodels/set24_subsystems_model_ker50.h5\n",
      "Loading 25 from: finalmodels/set25_subsystems_model_ker50.h5\n",
      "Loading 26 from: finalmodels/set26_subsystems_model_ker50.h5\n",
      "Loading 27 from: finalmodels/set27_subsystems_model_ker50.h5\n",
      "Loading 28 from: finalmodels/set28_subsystems_model_ker50.h5\n",
      "Loading 29 from: finalmodels/set29_subsystems_model_ker50.h5\n",
      "Loading 2 from: finalmodels/set2_subsystems_model_ker50.h5\n",
      "Loading 30 from: finalmodels/set30_subsystems_model_ker50.h5\n",
      "Loading 31 from: finalmodels/set31_subsystems_model_ker50.h5\n",
      "Loading 32 from: finalmodels/set32_subsystems_model_ker50.h5\n",
      "Loading 33 from: finalmodels/set33_subsystems_model_ker50.h5\n",
      "Loading 34 from: finalmodels/set34_subsystems_model_ker50.h5\n",
      "Loading 35 from: finalmodels/set35_subsystems_model_ker50.h5\n",
      "Loading 36 from: finalmodels/set36_subsystems_model_ker50.h5\n",
      "Loading 37 from: finalmodels/set37_subsystems_model_ker50.h5\n",
      "Loading 38 from: finalmodels/set38_subsystems_model_ker50.h5\n",
      "Loading 39 from: finalmodels/set39_subsystems_model_ker50.h5\n",
      "Loading 3 from: finalmodels/set3_subsystems_model_ker50.h5\n",
      "Loading 40 from: finalmodels/set40_subsystems_model_ker50.h5\n",
      "Loading 41 from: finalmodels/set41_subsystems_model_ker50.h5\n",
      "Loading 42 from: finalmodels/set42_subsystems_model_ker50.h5\n",
      "Loading 43 from: finalmodels/set43_subsystems_model_ker50.h5\n",
      "Loading 44 from: finalmodels/set44_subsystems_model_ker50.h5\n",
      "Loading 45 from: finalmodels/set45_subsystems_model_ker50.h5\n",
      "Loading 46 from: finalmodels/set46_subsystems_model_ker50.h5\n",
      "Loading 47 from: finalmodels/set47_subsystems_model_ker50.h5\n",
      "Loading 4 from: finalmodels/set4_subsystems_model_ker50.h5\n",
      "Loading 5 from: finalmodels/set5_subsystems_model_ker50.h5\n",
      "Loading 6 from: finalmodels/set6_subsystems_model_ker50.h5\n",
      "Loading 7 from: finalmodels/set7_subsystems_model_ker50.h5\n",
      "Loading 8 from: finalmodels/set8_subsystems_model_ker50.h5\n",
      "Loading 9 from: finalmodels/set9_subsystems_model_ker50.h5\n"
     ]
    }
   ],
   "source": [
    "hi = ph.Hierarchical_Protein_Classification(\n",
    "                 sequence_file = 'small_testset.txt',\n",
    "                 model_label_refs ='model_label_referencefile_190620.pkl',\n",
    "                 ontology_file = 'Ontology_20190609_Final.txt', \n",
    "                 subsystem_merge_file = 'Subsystem_Name_toMerged_mapping.txt',\n",
    "                 subsys_sets_idx_file = 'setlabel_subsystemlabel_xref_190620.pkl',\n",
    "                 set_files_pattern = 'finalmodels/set*_subsystems_model_ker50.h5',\n",
    "                 base_models_pattern = 'finalmodels/*bigdata.h5',             \n",
    "                 chunksize = 1000, max_seq_len = 1950, confidence_threshold = 0.9,\n",
    ")"
   ]
  },
  {
   "cell_type": "code",
   "execution_count": 3,
   "metadata": {},
   "outputs": [
    {
     "name": "stdout",
     "output_type": "stream",
     "text": [
      "0,Subclass\n",
      "Class\n",
      "1,Subclass\n",
      "Class\n",
      "2,"
     ]
    },
    {
     "ename": "StopIteration",
     "evalue": "",
     "output_type": "error",
     "traceback": [
      "\u001b[0;31m---------------------------------------------------------------------------\u001b[0m",
      "\u001b[0;31mStopIteration\u001b[0m                             Traceback (most recent call last)",
      "\u001b[0;32m<ipython-input-3-16f48c52312e>\u001b[0m in \u001b[0;36m<module>\u001b[0;34m\u001b[0m\n\u001b[0;32m----> 1\u001b[0;31m \u001b[0mhi\u001b[0m\u001b[0;34m.\u001b[0m\u001b[0mpredict_all\u001b[0m\u001b[0;34m(\u001b[0m\u001b[0msave_path\u001b[0m\u001b[0;34m=\u001b[0m\u001b[0;34m'test_preds/'\u001b[0m\u001b[0;34m)\u001b[0m\u001b[0;34m\u001b[0m\u001b[0;34m\u001b[0m\u001b[0m\n\u001b[0m",
      "\u001b[0;32m~/working/model_package/protein_function_hierarchy.py\u001b[0m in \u001b[0;36mpredict_all\u001b[0;34m(self, save_path, delimiter)\u001b[0m\n\u001b[1;32m    308\u001b[0m         \u001b[0;32mwhile\u001b[0m \u001b[0;32mTrue\u001b[0m\u001b[0;34m:\u001b[0m\u001b[0;34m\u001b[0m\u001b[0;34m\u001b[0m\u001b[0m\n\u001b[1;32m    309\u001b[0m             \u001b[0mprint\u001b[0m\u001b[0;34m(\u001b[0m\u001b[0mchunk_count\u001b[0m\u001b[0;34m,\u001b[0m \u001b[0mend\u001b[0m \u001b[0;34m=\u001b[0m \u001b[0;34m','\u001b[0m\u001b[0;34m)\u001b[0m\u001b[0;34m\u001b[0m\u001b[0;34m\u001b[0m\u001b[0m\n\u001b[0;32m--> 310\u001b[0;31m             \u001b[0mself\u001b[0m\u001b[0;34m.\u001b[0m\u001b[0msequences\u001b[0m \u001b[0;34m=\u001b[0m \u001b[0mself\u001b[0m\u001b[0;34m.\u001b[0m\u001b[0m_sequence_file\u001b[0m\u001b[0;34m.\u001b[0m\u001b[0mget_chunk\u001b[0m\u001b[0;34m(\u001b[0m\u001b[0;34m)\u001b[0m\u001b[0;34m\u001b[0m\u001b[0;34m\u001b[0m\u001b[0m\n\u001b[0m\u001b[1;32m    311\u001b[0m             \u001b[0;32mif\u001b[0m \u001b[0mlen\u001b[0m\u001b[0;34m(\u001b[0m\u001b[0mself\u001b[0m\u001b[0;34m.\u001b[0m\u001b[0msequences\u001b[0m\u001b[0;34m)\u001b[0m \u001b[0;34m==\u001b[0m \u001b[0;36m0\u001b[0m\u001b[0;34m:\u001b[0m\u001b[0;34m\u001b[0m\u001b[0;34m\u001b[0m\u001b[0m\n\u001b[1;32m    312\u001b[0m                 \u001b[0;32mbreak\u001b[0m\u001b[0;34m\u001b[0m\u001b[0;34m\u001b[0m\u001b[0m\n",
      "\u001b[0;32m~/py_36_env/lib/python3.6/site-packages/pandas/io/parsers.py\u001b[0m in \u001b[0;36mget_chunk\u001b[0;34m(self, size)\u001b[0m\n\u001b[1;32m   1171\u001b[0m                 \u001b[0;32mraise\u001b[0m \u001b[0mStopIteration\u001b[0m\u001b[0;34m\u001b[0m\u001b[0;34m\u001b[0m\u001b[0m\n\u001b[1;32m   1172\u001b[0m             \u001b[0msize\u001b[0m \u001b[0;34m=\u001b[0m \u001b[0mmin\u001b[0m\u001b[0;34m(\u001b[0m\u001b[0msize\u001b[0m\u001b[0;34m,\u001b[0m \u001b[0mself\u001b[0m\u001b[0;34m.\u001b[0m\u001b[0mnrows\u001b[0m \u001b[0;34m-\u001b[0m \u001b[0mself\u001b[0m\u001b[0;34m.\u001b[0m\u001b[0m_currow\u001b[0m\u001b[0;34m)\u001b[0m\u001b[0;34m\u001b[0m\u001b[0;34m\u001b[0m\u001b[0m\n\u001b[0;32m-> 1173\u001b[0;31m         \u001b[0;32mreturn\u001b[0m \u001b[0mself\u001b[0m\u001b[0;34m.\u001b[0m\u001b[0mread\u001b[0m\u001b[0;34m(\u001b[0m\u001b[0mnrows\u001b[0m\u001b[0;34m=\u001b[0m\u001b[0msize\u001b[0m\u001b[0;34m)\u001b[0m\u001b[0;34m\u001b[0m\u001b[0;34m\u001b[0m\u001b[0m\n\u001b[0m\u001b[1;32m   1174\u001b[0m \u001b[0;34m\u001b[0m\u001b[0m\n\u001b[1;32m   1175\u001b[0m \u001b[0;34m\u001b[0m\u001b[0m\n",
      "\u001b[0;32m~/py_36_env/lib/python3.6/site-packages/pandas/io/parsers.py\u001b[0m in \u001b[0;36mread\u001b[0;34m(self, nrows)\u001b[0m\n\u001b[1;32m   1137\u001b[0m     \u001b[0;32mdef\u001b[0m \u001b[0mread\u001b[0m\u001b[0;34m(\u001b[0m\u001b[0mself\u001b[0m\u001b[0;34m,\u001b[0m \u001b[0mnrows\u001b[0m\u001b[0;34m=\u001b[0m\u001b[0;32mNone\u001b[0m\u001b[0;34m)\u001b[0m\u001b[0;34m:\u001b[0m\u001b[0;34m\u001b[0m\u001b[0;34m\u001b[0m\u001b[0m\n\u001b[1;32m   1138\u001b[0m         \u001b[0mnrows\u001b[0m \u001b[0;34m=\u001b[0m \u001b[0m_validate_integer\u001b[0m\u001b[0;34m(\u001b[0m\u001b[0;34m'nrows'\u001b[0m\u001b[0;34m,\u001b[0m \u001b[0mnrows\u001b[0m\u001b[0;34m)\u001b[0m\u001b[0;34m\u001b[0m\u001b[0;34m\u001b[0m\u001b[0m\n\u001b[0;32m-> 1139\u001b[0;31m         \u001b[0mret\u001b[0m \u001b[0;34m=\u001b[0m \u001b[0mself\u001b[0m\u001b[0;34m.\u001b[0m\u001b[0m_engine\u001b[0m\u001b[0;34m.\u001b[0m\u001b[0mread\u001b[0m\u001b[0;34m(\u001b[0m\u001b[0mnrows\u001b[0m\u001b[0;34m)\u001b[0m\u001b[0;34m\u001b[0m\u001b[0;34m\u001b[0m\u001b[0m\n\u001b[0m\u001b[1;32m   1140\u001b[0m \u001b[0;34m\u001b[0m\u001b[0m\n\u001b[1;32m   1141\u001b[0m         \u001b[0;31m# May alter columns / col_dict\u001b[0m\u001b[0;34m\u001b[0m\u001b[0;34m\u001b[0m\u001b[0;34m\u001b[0m\u001b[0m\n",
      "\u001b[0;32m~/py_36_env/lib/python3.6/site-packages/pandas/io/parsers.py\u001b[0m in \u001b[0;36mread\u001b[0;34m(self, nrows)\u001b[0m\n\u001b[1;32m   1993\u001b[0m     \u001b[0;32mdef\u001b[0m \u001b[0mread\u001b[0m\u001b[0;34m(\u001b[0m\u001b[0mself\u001b[0m\u001b[0;34m,\u001b[0m \u001b[0mnrows\u001b[0m\u001b[0;34m=\u001b[0m\u001b[0;32mNone\u001b[0m\u001b[0;34m)\u001b[0m\u001b[0;34m:\u001b[0m\u001b[0;34m\u001b[0m\u001b[0;34m\u001b[0m\u001b[0m\n\u001b[1;32m   1994\u001b[0m         \u001b[0;32mtry\u001b[0m\u001b[0;34m:\u001b[0m\u001b[0;34m\u001b[0m\u001b[0;34m\u001b[0m\u001b[0m\n\u001b[0;32m-> 1995\u001b[0;31m             \u001b[0mdata\u001b[0m \u001b[0;34m=\u001b[0m \u001b[0mself\u001b[0m\u001b[0;34m.\u001b[0m\u001b[0m_reader\u001b[0m\u001b[0;34m.\u001b[0m\u001b[0mread\u001b[0m\u001b[0;34m(\u001b[0m\u001b[0mnrows\u001b[0m\u001b[0;34m)\u001b[0m\u001b[0;34m\u001b[0m\u001b[0;34m\u001b[0m\u001b[0m\n\u001b[0m\u001b[1;32m   1996\u001b[0m         \u001b[0;32mexcept\u001b[0m \u001b[0mStopIteration\u001b[0m\u001b[0;34m:\u001b[0m\u001b[0;34m\u001b[0m\u001b[0;34m\u001b[0m\u001b[0m\n\u001b[1;32m   1997\u001b[0m             \u001b[0;32mif\u001b[0m \u001b[0mself\u001b[0m\u001b[0;34m.\u001b[0m\u001b[0m_first_chunk\u001b[0m\u001b[0;34m:\u001b[0m\u001b[0;34m\u001b[0m\u001b[0;34m\u001b[0m\u001b[0m\n",
      "\u001b[0;32mpandas/_libs/parsers.pyx\u001b[0m in \u001b[0;36mpandas._libs.parsers.TextReader.read\u001b[0;34m()\u001b[0m\n",
      "\u001b[0;32mpandas/_libs/parsers.pyx\u001b[0m in \u001b[0;36mpandas._libs.parsers.TextReader._read_low_memory\u001b[0;34m()\u001b[0m\n",
      "\u001b[0;31mStopIteration\u001b[0m: "
     ]
    }
   ],
   "source": [
    "hi.predict_all(save_path='test_preds/')"
   ]
  },
  {
   "cell_type": "code",
   "execution_count": null,
   "metadata": {},
   "outputs": [],
   "source": []
  }
 ],
 "metadata": {
  "kernelspec": {
   "display_name": "py_36_env",
   "language": "python",
   "name": "py_36_env"
  },
  "language_info": {
   "codemirror_mode": {
    "name": "ipython",
    "version": 3
   },
   "file_extension": ".py",
   "mimetype": "text/x-python",
   "name": "python",
   "nbconvert_exporter": "python",
   "pygments_lexer": "ipython3",
   "version": "3.6.9"
  }
 },
 "nbformat": 4,
 "nbformat_minor": 2
}
